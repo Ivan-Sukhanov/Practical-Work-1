{
  "nbformat": 4,
  "nbformat_minor": 0,
  "metadata": {
    "colab": {
      "name": "Практическая работа 1 Суханов Иван КИ19-23Б",
      "provenance": [],
      "authorship_tag": "ABX9TyNJL3tXcbxUxqdmRlueKIe6",
      "include_colab_link": true
    },
    "kernelspec": {
      "name": "python3",
      "display_name": "Python 3"
    }
  },
  "cells": [
    {
      "cell_type": "markdown",
      "metadata": {
        "id": "view-in-github",
        "colab_type": "text"
      },
      "source": [
        "<a href=\"https://colab.research.google.com/github/Ivan-Sukhanov/Practical-Work-1/blob/main/%D0%9F%D1%80%D0%B0%D0%BA%D1%82%D0%B8%D1%87%D0%B5%D1%81%D0%BA%D0%B0%D1%8F_%D1%80%D0%B0%D0%B1%D0%BE%D1%82%D0%B0_1_%D0%A1%D1%83%D1%85%D0%B0%D0%BD%D0%BE%D0%B2_%D0%98%D0%B2%D0%B0%D0%BD_%D0%9A%D0%9819_23%D0%91.ipynb\" target=\"_parent\"><img src=\"https://colab.research.google.com/assets/colab-badge.svg\" alt=\"Open In Colab\"/></a>"
      ]
    },
    {
      "cell_type": "markdown",
      "metadata": {
        "id": "ENCPGRfesMXC"
      },
      "source": [
        "Суханов Иван Дмитриевич, КИ19-23Б"
      ]
    },
    {
      "cell_type": "code",
      "metadata": {
        "colab": {
          "base_uri": "https://localhost:8080/"
        },
        "id": "1JmgDr-PsD4N",
        "outputId": "79d6c46d-fb3d-4dbf-9dc2-7726fd8aceec"
      },
      "source": [
        "print('Привет, мир!')"
      ],
      "execution_count": 2,
      "outputs": [
        {
          "output_type": "stream",
          "text": [
            "Привет, мир!\n"
          ],
          "name": "stdout"
        }
      ]
    },
    {
      "cell_type": "code",
      "metadata": {
        "id": "V1v5FSABseO6"
      },
      "source": [
        ""
      ],
      "execution_count": null,
      "outputs": []
    }
  ]
}